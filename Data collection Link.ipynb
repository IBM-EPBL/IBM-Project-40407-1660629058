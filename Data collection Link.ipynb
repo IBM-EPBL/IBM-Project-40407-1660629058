{
  "nbformat": 4,
  "nbformat_minor": 0,
  "metadata": {
    "colab": {
      "provenance": []
    },
    "kernelspec": {
      "name": "python3",
      "display_name": "Python 3"
    },
    "language_info": {
      "name": "python"
    }
  },
  "cells": [
    {
      "cell_type": "markdown",
      "source": [
        "Data Collection  Link"
      ],
      "metadata": {
        "id": "goriJCps-Dnn"
      }
    },
    {
      "cell_type": "code",
      "execution_count": null,
      "metadata": {
        "id": "ApTEmxyz9_hy"
      },
      "outputs": [],
      "source": [
        "https://drive.google.com/file/d/1PiRs80Go1B-0qwaglsUGsVOG6TTxVDUi/view?usp=share_link"
      ]
    }
  ]
}